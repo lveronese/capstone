{
 "cells": [
  {
   "cell_type": "markdown",
   "metadata": {},
   "source": [
    "# Machine Learning Engineer Nanodegree"
   ]
  },
  {
   "cell_type": "markdown",
   "metadata": {},
   "source": [
    "## Capstone Project"
   ]
  },
  {
   "cell_type": "markdown",
   "metadata": {},
   "source": [
    "#### Luca Veronese\n",
    "#### April 20th, 2017"
   ]
  },
  {
   "cell_type": "markdown",
   "metadata": {},
   "source": [
    "## I. Definition"
   ]
  },
  {
   "cell_type": "markdown",
   "metadata": {},
   "source": [
    "### Project Overview"
   ]
  },
  {
   "cell_type": "markdown",
   "metadata": {},
   "source": [
    "I am one of the founders of a IoT startup company in Italy. This project aims to solve of a real world problem I’ve found working on a project we are currently undertaking at a customer site. \n",
    "\n",
    "We have developed a people/object localization and tracking system to be used inside buildings that uses Bluetooth Low Energy (BLE, https://www.bluetooth.com/what-is-bluetooth-technology/how-it-works/low-energy) devices, commonly known as beacons, as the signal emitting source. These beacons are generally worn by people, for example they may be embedded on keyrings. The receiving side of the system are Raspberry Pi 3 devices (https://www.raspberrypi.org/products/raspberry-pi-3-model-b/), connected to a network inside the rooms, one per room. In the following text I will use the Raspberry abbreviation to avoid repeating the full device make and model. Raspberries sense the beacons in a given area, classify the signal and report the data to a Cloud server. Users can then display the location of people/objects in the building on a map in real time using a client application:"
   ]
  },
  {
   "cell_type": "markdown",
   "metadata": {},
   "source": [
    "![Sample image of localization system](localization.png \"The Localization system user interface\")"
   ]
  },
  {
   "cell_type": "markdown",
   "metadata": {},
   "source": [
    "The purpose of the system is to detect when people enter a room or exit the room. It is not required to identify the exact position of people inside the rooms. The system also supplies access policies management with alerting, for example to detect violations when someone enters a room he/she is not allowed to enter.\n",
    "As I will describe in full detail in the problem statement this is a classification problem. I have analyzed various approaches to similar problems regarding localization. Many of these approaches are suitable for the case where multiple observations coming from multiple sensors are used to learn a single spatiotemporal function (D. Gu and H. Hu, “Spatial Gaussian process regression with mobile sensor networks,” IEEE Transactions on Neural Networks and Learning Systems, vol. 23, no. 8, pp. 1279–1290, 2012.) or where multiple input features are provided (A. Shareef, Y. Zhu, and M. Musavi, “Localization using neural networks in wireless sensor networks,” in Proceedings of the 1st International Conference on Mobile Wireless Middleware, Operating Systems, and Applications, 2008, pp. 1–7.). As we will see, my problem is more constrained and simple, so I decided to make a personal proposal for a solution."
   ]
  },
  {
   "cell_type": "markdown",
   "metadata": {},
   "source": [
    "### Problem Statement"
   ]
  },
  {
   "cell_type": "markdown",
   "metadata": {},
   "source": [
    "BLE devices are known for their inherent imprecision. The signal strength (RSSI, https://blog.bluetooth.com/proximity-and-rssi) is extremely unstable over time and in changing environments. Our application needs to state if a person is present inside a room in a building with high precision and low latency. Oftentimes a beacon is perceived by multiple antennas3 on nearby rooms or the signal is intermittent or absent for a significant period of time, or the signal values are characterized by high variance (Here by variance we intend the statistical notion of variance: the average of squared differences from the mean). In addition the signal behavior varies from room to room and depends on the size and geometry of the room, the furniture inside it and the location of the Raspberry device.\n",
    "\n",
    "Our problem is to identify when a beacon enters a given room and when it exits the room using the signals received from the antenna located in the room. The beacon emits a signal nearly every second5, so the sequence of signals received is a time series. We need to detect the enter/exit events indexes in the sequence of observations. Many beacons will concurrently move inside a building and each room will have one antenna. We consider all beacons equal but we need to learn a different model for each room since each room has different features (size, furniture, materials, ...). If two beacons are in the same room at the same time they represent independent time series, each one referring to a different beacon. Our problem is a classification problem where each observation in the time series can be labeled in two ways: IN or OUT, where IN means the beacon is inside the room, and OUT means it is outside of it. A single time series is defined by a single beacon on a single room from the time the beacon is first detected by the antenna to the time the beacon is no longer detectable by it.\n",
    "This system is currently implemented using a naïve solution that computes simple moving averages of the RSSI computed over the series to clean the values a bit and stabilize them but this solution is inadequate. Currently we label all detected signals as meaning IN and only detect an OUT event when the beacon is no longer detected (using a timeout of several seconds). This is a problem since a beacon can be detected when it is significantly far from the room, or is in nearby rooms, and signals are sometimes interrupted for unpredictable time intervals even when the beacon is stationary inside the room. This causes many spurious events to be emitted. \n",
    "\n",
    "For our purposes what matters the most is to be able to detect real events. We should avoid detecting fake events caused by fluctuations in the RSSI since alerts may be connected to the event, and we want to avoid generating false alerts. It is acceptable to detect the event with a given temporal delay, albeit we should try to minimize the delay as much as possible. As we will see there is a trade off between minimizing the probability of fake event detection and minimizing the event detection delay."
   ]
  },
  {
   "cell_type": "markdown",
   "metadata": {},
   "source": [
    "### Datasets and Inputs"
   ]
  },
  {
   "cell_type": "markdown",
   "metadata": {},
   "source": [
    "The features I will be using are the RSSI values measured from the Raspberries as well as the delay in milliseconds between successive measures. I have implemented a function to collect labelled samples on the field (the code is written in JavaScript1 running on node.js2 inside the Raspberry Pi). A field technician can start the sample collection and move inside and outside a given room, signaling his/her position (using a portable computer), so we can add the target feature (IN/OUT binary variable) to the other two. Our input files will then have three features: RSSI value, delay from last measure, beacon inside/outside. The last feature is the feature to be predicted and the class labels are IN and OUT as described in the previous section. This data can easily be obtained from our current instrumentation and there is no privacy problem related to it. This is the data I can obtain on the field. I could think of additional features to add in order to generalize the model and use much more data. For example some additional features could be: room sizes, presence of furniture, position of the Raspberry inside the room, and so on. In this way I may create a single model for all the rooms. I have resisted this temptation since the purpose of this system is to create an easy to use setup procedure for installers that set these devices up, so I can’t force them to provide additional information like exact positions of objects on a coordinate system. In this problem, the limitation in terms of number of available features has a fundamental role in shaping the solution I came up with."
   ]
  },
  {
   "cell_type": "markdown",
   "metadata": {},
   "source": [
    "### Solution Statement"
   ]
  },
  {
   "cell_type": "markdown",
   "metadata": {},
   "source": [
    "If we had a coordinate system with precise locations for the Raspberries and room sizes we may use known algorithms for localization like Kalman filters and particle filters1. This may be a solution for other kind of situations but for this specific use case we are trying to detect an IN/OUT event, we have no coordinates and a single antenna per room. Classical localization algorithms seem not to be a good fit since they assume multiple sensors and are optimized to predict a location for a moving target (so they need a coordinate system).\n",
    "\n",
    "It is to be expected that the average RSSI value inside the room should be significantly higher than the average value of the RSSI measured outside the room. The problem is that the high signal variance we measure from the beacons makes it difficult to use this knowledge to detect the event when it happens and there is high probability to detect spurious events.\n",
    "\n",
    "The solution I suggest is to use a probabilistic model based on Gaussian distributions. The data I get, being repeated observations of the RSSI over time, should be reasonably distributed as a Gaussian (at least the distribution is symmetric and unimodal if the antenna is placed centrally in the room). If I partition my observations into two sets based on the labels, I can estimate the parameters of two gaussian distributions that represent the probability of observing a given RSSI value assuming the two hypotheses of being inside or outside the room. I can use some comparison between these probabilities to classify the observations and detect the interesting events. The algorithm I’m going to describe in the Analysis section is a refinement of this basic idea.\n",
    "\n",
    "I also collect the delay between subsequent observations. It is a piece of data that I can obtain for free during the collection phase (we call it the antenna training phase). I don’t know if this feature will be useful and will allow us to improve our solution but the rationale for using it is that I expect delays inside the room to be much smaller than delays outside it. If this is true this feature can further help us in the classification task. We also need to see how much RSSI is correlated with the delay in order to verify if the delay feature is redundant. For it to be useful, the delay should be highly \"correlated\" with the labels and should have low correlation with the RSSI. I will verify the usefulness of the delay during the data exploration phase. Should it be useful we will need to use bivariate gaussian distributions."
   ]
  },
  {
   "cell_type": "markdown",
   "metadata": {},
   "source": [
    "### Metrics"
   ]
  },
  {
   "cell_type": "markdown",
   "metadata": {},
   "source": [
    "In order to evaluate the quality of a solution we need to define a metric that will be used to compare different solutions. Since this is a classification problem, we are interested in measuring how many observations are correctly classified by our algorithm. In the field there are various metrics that can be used to evaluate the score of a solution for classification problems. The most used are: F1 score; Accuracy; Precision and Recall. In our problem the classes IN and OUT are not skewed, the fact of being inside or outside the room is equally represented in our training samples and the cost of a false positive is equal to the cost of a false negative. So I would actually not use Precision and Recall and consequently the F1 score. I think Accuracy is the best metric in our case, measuring the ratio between the count of correct predictions and the total number of observations in the training sample."
   ]
  },
  {
   "cell_type": "markdown",
   "metadata": {},
   "source": [
    "## II. Analysis"
   ]
  },
  {
   "cell_type": "markdown",
   "metadata": {},
   "source": [
    "### Data Exploration"
   ]
  },
  {
   "cell_type": "markdown",
   "metadata": {},
   "source": [
    "The data I will use for this project has been collected by myself using functionality I implemented inside the application. The purpose of the data collection function is to collect a balanced sample of observations where the sample contains roughly the same amount of observations labelled IN and OUT. In order to explain how I collected the data I need to describe the architecture of the system. The system is composed of three pieces of software:\n",
    "- The software running inside the Raspberry PI 3, which is written in JavaScript and runs on the node.js platform. The responsibility of this subsystem is to acquire data from the surrounding beacons and transmit the data to the server component;\n",
    "- The server, running on the Cloud (www.heroku.com at the moment), is a node.js application that coordinates the collection of data from the Raspberries, stores the data in a PostgreSQL (www.postgresql.org) database, and provides the data to the clients for consumption. The server and the Raspberries communicate through the websockets (https://en.wikipedia.org/wiki/WebSocket) protocol;\n",
    "- The client is a JavaScript application that talks to the node.js server through the websockets protocol. It sends commands to the server and receives the data about people location and displays the data on a map in real time. It can also show historical data.\n",
    "\n",
    "In order to collect the data, the user selects a Zone (room), tells the client which beacon will be used for training data collection and starts the collection phase by pushing the \"Taratura\" button in the UI (sorry, the UI is in the italian language):"
   ]
  },
  {
   "cell_type": "markdown",
   "metadata": {},
   "source": [
    "![Image of dialog for starting data collection](antenna_setup.png \"Dialog for starting data collection\")"
   ]
  },
  {
   "cell_type": "markdown",
   "metadata": {},
   "source": [
    "The client asks the server to start collecting data, the server sends a command to the Raspberry on the selected zone, which starts collecting the data. As data is being collected the user moves inside and outside the room. Each time the user exits or enters the room he/she signals the event by pressing a button in the UI. This triggers a message to the Raspberry who switches the label value for the data being collected. In the end we get data in this JSON format (sample):\n",
    "\n",
    "`{ \"sample\": \n",
    "   [ { \"rssi\": -80, \"pos\": 0, \"ts\": 1490443597934 },\n",
    "     { \"rssi\": -86, \"pos\": 0, \"delay\": 1001, \"ts\": 1490443598935 },\n",
    "     { \"rssi\": -82, \"pos\": 0, \"delay\": 1010, \"ts\": 1490443599945 },\n",
    "     { \"rssi\": -82, \"pos\": 0, \"delay\": 1009, \"ts\": 1490443600954 },\n",
    "     ...\n",
    "     { \"rssi\": -93, \"pos\": 1, \"delay\": 2004, \"ts\": 1490443670259 },\n",
    "     { \"rssi\": -92, \"pos\": 1, \"delay\": 13060, \"ts\": 1490443683319 },\n",
    "     { \"rssi\": -91, \"pos\": 1, \"delay\": 1003, \"ts\": 1490443684322 },\n",
    "     { \"rssi\": -85, \"pos\": 1, \"delay\": 2005, \"ts\": 1490443686327 },\n",
    "     { \"rssi\": -88, \"pos\": 1, \"delay\": 1010, \"ts\": 1490443687337 },\n",
    "...\n",
    "     { \"rssi\": -79, \"pos\": 0, \"delay\": 1008, \"ts\": 1490443795867 },\n",
    "     { \"rssi\": -77, \"pos\": 0, \"delay\": 1007, \"ts\": 1490443796874 },\n",
    "     { \"rssi\": -78, \"pos\": 0, \"delay\": 1003, \"ts\": 1490443797877 },\n",
    "     { \"rssi\": -81, \"pos\": 0, \"delay\": 2012, \"ts\": 1490443799889 },\n",
    "...\n",
    "     { \"rssi\": -89, \"pos\": 1, \"delay\": 4021, \"ts\": 1490443863233 },\n",
    "     { \"rssi\": -83, \"pos\": 1, \"delay\": 10047, \"ts\": 1490443873280 },\n",
    "     { \"rssi\": -86, \"pos\": 1, \"delay\": 1004, \"ts\": 1490443874284 },\n",
    "...\n",
    " ]}`\n",
    " \n",
    "We are interested in the three features: *rssi*, *pos* and *delay*. The *ts* feature is the collection timestamp and is not interesting for our purposes. The features of interest are:\n",
    "- RSSI: (Received Signal Strength Indication). The rssi value provided by the beacon and read by the Raspberry. It is a negative value. Bigger values (nearer to zero) mean stronger signal, while lower values (far from zero) mean weaker signal. RSSI is a signal strength percentage and varies from manufacturer to manufacturer. So it is not an absolute value. For our purposes, since in a given installation we use identical beacons, the absolute values are not relevant and as we will see our algorithm is actually sensible to trends over time of the RSSI. The RSSI value we get in the sample is an integer value but we will be treating the RSSI as a continuous variable. In reality the RSSI value may contain fractional digits;\n",
    "- pos is our target label to be predicted. It assumes two values: 0 for IN (inside the room) and 1 for OUT (outside the room). Our objective is to predict pos from RSSI and delay. So this characterizes our problem as a classification problem, since the target variable to predict is categorical;\n",
    "- delay: is the delay in milliseconds for the signal arrival to the Raspberry since the previous signal was received. The beacon is setup to transmit every second (1000ms) but as we can see from the data, the delay is a random variable. Whether the delay feature can be useful for predicting pos is a fact to be determined in this analysis phase.\n",
    "\n",
    "In order to more easily process this data in python I converted it to CSV format using a small JavaScript script. The final structure of the data is (sample):\n",
    "\n",
    "`\"rssi\",\"pos\",\"delay\"\n",
    "-80,0,\n",
    "-86,0,1001\n",
    "-82,0,1010\n",
    "-82,0,1009\n",
    "-84,0,1007\n",
    "-82,0,1008\n",
    "-79,0,2011\n",
    "…`\n",
    "\n",
    "For the first observation the delay feature is obviously missing. Apart from this all the observations have all the data.\n",
    "In order to remove the missing value I will ignore the first observation. \n",
    "Given the data collection approach and the nature of the system I exclude the presence of outliers in the samples I collected. Also, given the algorithm I’m going to describe next, there is no need for transformations on the raw data collected.\n",
    "In order to understand the data I computed these statistics for three independently collected data samples:"
   ]
  },
  {
   "cell_type": "code",
   "execution_count": 18,
   "metadata": {
    "collapsed": false,
    "scrolled": true
   },
   "outputs": [
    {
     "data": {
      "text/html": [
       "<div>\n",
       "<table border=\"1\" class=\"dataframe\">\n",
       "  <thead>\n",
       "    <tr style=\"text-align: right;\">\n",
       "      <th></th>\n",
       "      <th>rssi</th>\n",
       "      <th>pos</th>\n",
       "      <th>delay</th>\n",
       "    </tr>\n",
       "  </thead>\n",
       "  <tbody>\n",
       "    <tr>\n",
       "      <th>count</th>\n",
       "      <td>120.000000</td>\n",
       "      <td>120.0</td>\n",
       "      <td>120.000000</td>\n",
       "    </tr>\n",
       "    <tr>\n",
       "      <th>mean</th>\n",
       "      <td>-78.641667</td>\n",
       "      <td>0.0</td>\n",
       "      <td>1264.575000</td>\n",
       "    </tr>\n",
       "    <tr>\n",
       "      <th>std</th>\n",
       "      <td>6.914600</td>\n",
       "      <td>0.0</td>\n",
       "      <td>657.878749</td>\n",
       "    </tr>\n",
       "    <tr>\n",
       "      <th>min</th>\n",
       "      <td>-92.000000</td>\n",
       "      <td>0.0</td>\n",
       "      <td>998.000000</td>\n",
       "    </tr>\n",
       "    <tr>\n",
       "      <th>25%</th>\n",
       "      <td>-84.000000</td>\n",
       "      <td>0.0</td>\n",
       "      <td>1002.000000</td>\n",
       "    </tr>\n",
       "    <tr>\n",
       "      <th>50%</th>\n",
       "      <td>-79.500000</td>\n",
       "      <td>0.0</td>\n",
       "      <td>1006.000000</td>\n",
       "    </tr>\n",
       "    <tr>\n",
       "      <th>75%</th>\n",
       "      <td>-72.750000</td>\n",
       "      <td>0.0</td>\n",
       "      <td>1010.000000</td>\n",
       "    </tr>\n",
       "    <tr>\n",
       "      <th>max</th>\n",
       "      <td>-62.000000</td>\n",
       "      <td>0.0</td>\n",
       "      <td>5020.000000</td>\n",
       "    </tr>\n",
       "  </tbody>\n",
       "</table>\n",
       "</div>"
      ],
      "text/plain": [
       "             rssi    pos        delay\n",
       "count  120.000000  120.0   120.000000\n",
       "mean   -78.641667    0.0  1264.575000\n",
       "std      6.914600    0.0   657.878749\n",
       "min    -92.000000    0.0   998.000000\n",
       "25%    -84.000000    0.0  1002.000000\n",
       "50%    -79.500000    0.0  1006.000000\n",
       "75%    -72.750000    0.0  1010.000000\n",
       "max    -62.000000    0.0  5020.000000"
      ]
     },
     "metadata": {},
     "output_type": "display_data"
    },
    {
     "data": {
      "text/html": [
       "<div>\n",
       "<table border=\"1\" class=\"dataframe\">\n",
       "  <thead>\n",
       "    <tr style=\"text-align: right;\">\n",
       "      <th></th>\n",
       "      <th>rssi</th>\n",
       "      <th>pos</th>\n",
       "      <th>delay</th>\n",
       "    </tr>\n",
       "  </thead>\n",
       "  <tbody>\n",
       "    <tr>\n",
       "      <th>count</th>\n",
       "      <td>79.000000</td>\n",
       "      <td>79.0</td>\n",
       "      <td>79.000000</td>\n",
       "    </tr>\n",
       "    <tr>\n",
       "      <th>mean</th>\n",
       "      <td>-87.468354</td>\n",
       "      <td>1.0</td>\n",
       "      <td>2530.924051</td>\n",
       "    </tr>\n",
       "    <tr>\n",
       "      <th>std</th>\n",
       "      <td>4.138114</td>\n",
       "      <td>0.0</td>\n",
       "      <td>3006.439507</td>\n",
       "    </tr>\n",
       "    <tr>\n",
       "      <th>min</th>\n",
       "      <td>-96.000000</td>\n",
       "      <td>1.0</td>\n",
       "      <td>997.000000</td>\n",
       "    </tr>\n",
       "    <tr>\n",
       "      <th>25%</th>\n",
       "      <td>-91.000000</td>\n",
       "      <td>1.0</td>\n",
       "      <td>1004.000000</td>\n",
       "    </tr>\n",
       "    <tr>\n",
       "      <th>50%</th>\n",
       "      <td>-87.000000</td>\n",
       "      <td>1.0</td>\n",
       "      <td>1010.000000</td>\n",
       "    </tr>\n",
       "    <tr>\n",
       "      <th>75%</th>\n",
       "      <td>-85.000000</td>\n",
       "      <td>1.0</td>\n",
       "      <td>3013.000000</td>\n",
       "    </tr>\n",
       "    <tr>\n",
       "      <th>max</th>\n",
       "      <td>-76.000000</td>\n",
       "      <td>1.0</td>\n",
       "      <td>21112.000000</td>\n",
       "    </tr>\n",
       "  </tbody>\n",
       "</table>\n",
       "</div>"
      ],
      "text/plain": [
       "            rssi   pos         delay\n",
       "count  79.000000  79.0     79.000000\n",
       "mean  -87.468354   1.0   2530.924051\n",
       "std     4.138114   0.0   3006.439507\n",
       "min   -96.000000   1.0    997.000000\n",
       "25%   -91.000000   1.0   1004.000000\n",
       "50%   -87.000000   1.0   1010.000000\n",
       "75%   -85.000000   1.0   3013.000000\n",
       "max   -76.000000   1.0  21112.000000"
      ]
     },
     "metadata": {},
     "output_type": "display_data"
    },
    {
     "data": {
      "text/html": [
       "<div>\n",
       "<table border=\"1\" class=\"dataframe\">\n",
       "  <thead>\n",
       "    <tr style=\"text-align: right;\">\n",
       "      <th></th>\n",
       "      <th>rssi</th>\n",
       "      <th>pos</th>\n",
       "      <th>delay</th>\n",
       "    </tr>\n",
       "  </thead>\n",
       "  <tbody>\n",
       "    <tr>\n",
       "      <th>count</th>\n",
       "      <td>96.000000</td>\n",
       "      <td>96.0</td>\n",
       "      <td>96.000000</td>\n",
       "    </tr>\n",
       "    <tr>\n",
       "      <th>mean</th>\n",
       "      <td>-76.197917</td>\n",
       "      <td>0.0</td>\n",
       "      <td>1119.989583</td>\n",
       "    </tr>\n",
       "    <tr>\n",
       "      <th>std</th>\n",
       "      <td>7.823877</td>\n",
       "      <td>0.0</td>\n",
       "      <td>352.081345</td>\n",
       "    </tr>\n",
       "    <tr>\n",
       "      <th>min</th>\n",
       "      <td>-94.000000</td>\n",
       "      <td>0.0</td>\n",
       "      <td>992.000000</td>\n",
       "    </tr>\n",
       "    <tr>\n",
       "      <th>25%</th>\n",
       "      <td>-82.250000</td>\n",
       "      <td>0.0</td>\n",
       "      <td>1003.000000</td>\n",
       "    </tr>\n",
       "    <tr>\n",
       "      <th>50%</th>\n",
       "      <td>-74.500000</td>\n",
       "      <td>0.0</td>\n",
       "      <td>1006.000000</td>\n",
       "    </tr>\n",
       "    <tr>\n",
       "      <th>75%</th>\n",
       "      <td>-70.000000</td>\n",
       "      <td>0.0</td>\n",
       "      <td>1009.000000</td>\n",
       "    </tr>\n",
       "    <tr>\n",
       "      <th>max</th>\n",
       "      <td>-62.000000</td>\n",
       "      <td>0.0</td>\n",
       "      <td>3004.000000</td>\n",
       "    </tr>\n",
       "  </tbody>\n",
       "</table>\n",
       "</div>"
      ],
      "text/plain": [
       "            rssi   pos        delay\n",
       "count  96.000000  96.0    96.000000\n",
       "mean  -76.197917   0.0  1119.989583\n",
       "std     7.823877   0.0   352.081345\n",
       "min   -94.000000   0.0   992.000000\n",
       "25%   -82.250000   0.0  1003.000000\n",
       "50%   -74.500000   0.0  1006.000000\n",
       "75%   -70.000000   0.0  1009.000000\n",
       "max   -62.000000   0.0  3004.000000"
      ]
     },
     "metadata": {},
     "output_type": "display_data"
    },
    {
     "data": {
      "text/html": [
       "<div>\n",
       "<table border=\"1\" class=\"dataframe\">\n",
       "  <thead>\n",
       "    <tr style=\"text-align: right;\">\n",
       "      <th></th>\n",
       "      <th>rssi</th>\n",
       "      <th>pos</th>\n",
       "      <th>delay</th>\n",
       "    </tr>\n",
       "  </thead>\n",
       "  <tbody>\n",
       "    <tr>\n",
       "      <th>count</th>\n",
       "      <td>103.000000</td>\n",
       "      <td>103.0</td>\n",
       "      <td>103.000000</td>\n",
       "    </tr>\n",
       "    <tr>\n",
       "      <th>mean</th>\n",
       "      <td>-88.708738</td>\n",
       "      <td>1.0</td>\n",
       "      <td>1658.087379</td>\n",
       "    </tr>\n",
       "    <tr>\n",
       "      <th>std</th>\n",
       "      <td>5.274116</td>\n",
       "      <td>0.0</td>\n",
       "      <td>1246.687777</td>\n",
       "    </tr>\n",
       "    <tr>\n",
       "      <th>min</th>\n",
       "      <td>-99.000000</td>\n",
       "      <td>1.0</td>\n",
       "      <td>996.000000</td>\n",
       "    </tr>\n",
       "    <tr>\n",
       "      <th>25%</th>\n",
       "      <td>-92.000000</td>\n",
       "      <td>1.0</td>\n",
       "      <td>1004.000000</td>\n",
       "    </tr>\n",
       "    <tr>\n",
       "      <th>50%</th>\n",
       "      <td>-89.000000</td>\n",
       "      <td>1.0</td>\n",
       "      <td>1008.000000</td>\n",
       "    </tr>\n",
       "    <tr>\n",
       "      <th>75%</th>\n",
       "      <td>-85.000000</td>\n",
       "      <td>1.0</td>\n",
       "      <td>2008.000000</td>\n",
       "    </tr>\n",
       "    <tr>\n",
       "      <th>max</th>\n",
       "      <td>-74.000000</td>\n",
       "      <td>1.0</td>\n",
       "      <td>7028.000000</td>\n",
       "    </tr>\n",
       "  </tbody>\n",
       "</table>\n",
       "</div>"
      ],
      "text/plain": [
       "             rssi    pos        delay\n",
       "count  103.000000  103.0   103.000000\n",
       "mean   -88.708738    1.0  1658.087379\n",
       "std      5.274116    0.0  1246.687777\n",
       "min    -99.000000    1.0   996.000000\n",
       "25%    -92.000000    1.0  1004.000000\n",
       "50%    -89.000000    1.0  1008.000000\n",
       "75%    -85.000000    1.0  2008.000000\n",
       "max    -74.000000    1.0  7028.000000"
      ]
     },
     "metadata": {},
     "output_type": "display_data"
    },
    {
     "data": {
      "text/html": [
       "<div>\n",
       "<table border=\"1\" class=\"dataframe\">\n",
       "  <thead>\n",
       "    <tr style=\"text-align: right;\">\n",
       "      <th></th>\n",
       "      <th>rssi</th>\n",
       "      <th>pos</th>\n",
       "      <th>delay</th>\n",
       "    </tr>\n",
       "  </thead>\n",
       "  <tbody>\n",
       "    <tr>\n",
       "      <th>count</th>\n",
       "      <td>105.000000</td>\n",
       "      <td>105.0</td>\n",
       "      <td>105.000000</td>\n",
       "    </tr>\n",
       "    <tr>\n",
       "      <th>mean</th>\n",
       "      <td>-76.409524</td>\n",
       "      <td>0.0</td>\n",
       "      <td>1158.142857</td>\n",
       "    </tr>\n",
       "    <tr>\n",
       "      <th>std</th>\n",
       "      <td>7.668235</td>\n",
       "      <td>0.0</td>\n",
       "      <td>457.301963</td>\n",
       "    </tr>\n",
       "    <tr>\n",
       "      <th>min</th>\n",
       "      <td>-95.000000</td>\n",
       "      <td>0.0</td>\n",
       "      <td>998.000000</td>\n",
       "    </tr>\n",
       "    <tr>\n",
       "      <th>25%</th>\n",
       "      <td>-83.000000</td>\n",
       "      <td>0.0</td>\n",
       "      <td>1003.000000</td>\n",
       "    </tr>\n",
       "    <tr>\n",
       "      <th>50%</th>\n",
       "      <td>-77.000000</td>\n",
       "      <td>0.0</td>\n",
       "      <td>1006.000000</td>\n",
       "    </tr>\n",
       "    <tr>\n",
       "      <th>75%</th>\n",
       "      <td>-70.000000</td>\n",
       "      <td>0.0</td>\n",
       "      <td>1009.000000</td>\n",
       "    </tr>\n",
       "    <tr>\n",
       "      <th>max</th>\n",
       "      <td>-57.000000</td>\n",
       "      <td>0.0</td>\n",
       "      <td>4019.000000</td>\n",
       "    </tr>\n",
       "  </tbody>\n",
       "</table>\n",
       "</div>"
      ],
      "text/plain": [
       "             rssi    pos        delay\n",
       "count  105.000000  105.0   105.000000\n",
       "mean   -76.409524    0.0  1158.142857\n",
       "std      7.668235    0.0   457.301963\n",
       "min    -95.000000    0.0   998.000000\n",
       "25%    -83.000000    0.0  1003.000000\n",
       "50%    -77.000000    0.0  1006.000000\n",
       "75%    -70.000000    0.0  1009.000000\n",
       "max    -57.000000    0.0  4019.000000"
      ]
     },
     "metadata": {},
     "output_type": "display_data"
    },
    {
     "data": {
      "text/html": [
       "<div>\n",
       "<table border=\"1\" class=\"dataframe\">\n",
       "  <thead>\n",
       "    <tr style=\"text-align: right;\">\n",
       "      <th></th>\n",
       "      <th>rssi</th>\n",
       "      <th>pos</th>\n",
       "      <th>delay</th>\n",
       "    </tr>\n",
       "  </thead>\n",
       "  <tbody>\n",
       "    <tr>\n",
       "      <th>count</th>\n",
       "      <td>95.000000</td>\n",
       "      <td>95.0</td>\n",
       "      <td>95.000000</td>\n",
       "    </tr>\n",
       "    <tr>\n",
       "      <th>mean</th>\n",
       "      <td>-85.031579</td>\n",
       "      <td>1.0</td>\n",
       "      <td>1269.031579</td>\n",
       "    </tr>\n",
       "    <tr>\n",
       "      <th>std</th>\n",
       "      <td>5.264196</td>\n",
       "      <td>0.0</td>\n",
       "      <td>511.932955</td>\n",
       "    </tr>\n",
       "    <tr>\n",
       "      <th>min</th>\n",
       "      <td>-94.000000</td>\n",
       "      <td>1.0</td>\n",
       "      <td>997.000000</td>\n",
       "    </tr>\n",
       "    <tr>\n",
       "      <th>25%</th>\n",
       "      <td>-89.500000</td>\n",
       "      <td>1.0</td>\n",
       "      <td>1003.000000</td>\n",
       "    </tr>\n",
       "    <tr>\n",
       "      <th>50%</th>\n",
       "      <td>-86.000000</td>\n",
       "      <td>1.0</td>\n",
       "      <td>1006.000000</td>\n",
       "    </tr>\n",
       "    <tr>\n",
       "      <th>75%</th>\n",
       "      <td>-81.000000</td>\n",
       "      <td>1.0</td>\n",
       "      <td>1011.000000</td>\n",
       "    </tr>\n",
       "    <tr>\n",
       "      <th>max</th>\n",
       "      <td>-74.000000</td>\n",
       "      <td>1.0</td>\n",
       "      <td>3021.000000</td>\n",
       "    </tr>\n",
       "  </tbody>\n",
       "</table>\n",
       "</div>"
      ],
      "text/plain": [
       "            rssi   pos        delay\n",
       "count  95.000000  95.0    95.000000\n",
       "mean  -85.031579   1.0  1269.031579\n",
       "std     5.264196   0.0   511.932955\n",
       "min   -94.000000   1.0   997.000000\n",
       "25%   -89.500000   1.0  1003.000000\n",
       "50%   -86.000000   1.0  1006.000000\n",
       "75%   -81.000000   1.0  1011.000000\n",
       "max   -74.000000   1.0  3021.000000"
      ]
     },
     "metadata": {},
     "output_type": "display_data"
    }
   ],
   "source": [
    "# Import libraries necessary for this project\n",
    "import numpy as np\n",
    "import pandas as pd\n",
    "from IPython.display import display # Allows the use of display() for DataFrames\n",
    "\n",
    "# Pretty display for notebooks\n",
    "%matplotlib inline\n",
    "\n",
    "# Load the dataset\n",
    "in_file = 'data/dati.csv'\n",
    "sample1 = pd.read_csv(in_file)\n",
    "# remove first row to get stats right\n",
    "sample1.dropna(inplace=True)\n",
    "\n",
    "# Print the first few entries\n",
    "display(sample1[sample1['pos'] == 0].describe())\n",
    "display(sample1[sample1['pos'] == 1].describe())\n",
    "\n",
    "in_file2 = 'data/dati2.csv'\n",
    "sample2 = pd.read_csv(in_file2)\n",
    "# remove first row to get stats right\n",
    "sample2.dropna(inplace=True)\n",
    "\n",
    "# Print the first few entries\n",
    "display(sample2[sample2['pos'] == 0].describe())\n",
    "display(sample2[sample2['pos'] == 1].describe())\n",
    "\n",
    "in_file3 = 'data/dati3.csv'\n",
    "sample3 = pd.read_csv(in_file3)\n",
    "# remove first row to get stats right\n",
    "sample3.dropna(inplace=True)\n",
    "\n",
    "# Print the first few entries\n",
    "display(sample3[sample3['pos'] == 0].describe())\n",
    "display(sample3[sample3['pos'] == 1].describe())\n",
    "\n"
   ]
  },
  {
   "cell_type": "markdown",
   "metadata": {},
   "source": [
    "Some observations about the statistics above:\n",
    "- the average RSSI for IN observations is significantly lower than the average RSSI for OUT observations;\n",
    "- the standard deviation of RSSI for IN observations is a bit larger than the same measure for OUT observations;\n",
    "- considering the means and standard deviations observed, there is a significant overlap of high probability values for RSSI and delay on both distributions (assuming gaussian distributions);\n",
    "- the delay averages and standard deviations between IN and OUT labelled observations are significantly different only in the first sample. Looking at the quartiles we can see that the difference is concentrated on values above the median. Below the median the values are the same. By looking at the three samples we can conclude that the high values of delay observed in the first sample are random noise. If we look at the other samples we can conclude that delay is not really distributed differently for IN and OUT observations. This means the delay feature is not relevant for our purposes;\n",
    "- the three independently gathered samples show no significant difference in the statistics if we exclude the considerations on delay in the first sample. We can conclude that our samples are representative of the population of all samples we can gather in the same conditions (beacon/room/data acquisition methodology).\n"
   ]
  },
  {
   "cell_type": "markdown",
   "metadata": {},
   "source": [
    "### Exploratory Visualization"
   ]
  },
  {
   "cell_type": "code",
   "execution_count": 48,
   "metadata": {
    "collapsed": false
   },
   "outputs": [
    {
     "data": {
      "text/plain": [
       "<matplotlib.legend.Legend at 0x7f1d02b83250>"
      ]
     },
     "execution_count": 48,
     "metadata": {},
     "output_type": "execute_result"
    },
    {
     "data": {
      "image/png": "[encoded data removed]",
      "text/plain": [
       "<matplotlib.figure.Figure at 0x7f1d02c47550>"
      ]
     },
     "metadata": {},
     "output_type": "display_data"
    }
   ],
   "source": [
    "import matplotlib.pyplot as plt\n",
    "import matplotlib.cm as cm\n",
    "\n",
    "# Combine the three samples for visualization\n",
    "all_data = pd.concat([sample1, sample2, sample3])\n",
    "in_data = all_data[all_data['pos'] == 0]\n",
    "out_data = all_data[all_data['pos'] == 1]\n",
    "\n",
    "fig, ax = plt.subplots(figsize=(20, 10))\n",
    "ax.set_xlabel(\"RSSI\", fontsize=15)\n",
    "ax.set_ylabel(\"Delay\", fontsize=15)\n",
    "ax.set_title(\"RSSI versus delay for all samples\")\n",
    "\n",
    "ax.plot(in_data['rssi'], in_data['delay'], 'o', label=\"IN\")\n",
    "ax.plot(out_data['rssi'], out_data['delay'], 'x', label=\"OUT\")\n",
    "plt.legend(shadow=True, fancybox=True)"
   ]
  },
  {
   "cell_type": "markdown",
   "metadata": {},
   "source": [
    "From this visualization we can confirm that high RSSI values correspond to the IN label and low RSSI values correspond to the OUT label as expected. We can also confirm that there is a range of RSSI where there is significant overlap between the labels (from circa -94 to circa -75). The three outliers for the delay all belong to the first sample, so we may suspect some interference may have occurred during this sample collection. They may be removed but the diagram confirms the suspect that the delay is not so relevant to predict in and out labels. We can actually predict OUT with high confidence when the delay is around 5000ms or higher, but there are very few observations above this value and I think that this does not justify making the model more complex. Indeed the delay will turn to be useful later on in order to make the algorithm useful in the real world, but we will talk about this at the right moment."
   ]
  },
  {
   "cell_type": "markdown",
   "metadata": {},
   "source": [
    "Now I want to plot the samples as time series in order to see how the RSSI values change over time"
   ]
  },
  {
   "cell_type": "code",
   "execution_count": 46,
   "metadata": {
    "collapsed": false
   },
   "outputs": [
    {
     "data": {
      "text/plain": [
       "[<matplotlib.lines.Line2D at 0x7f1d02dca210>]"
      ]
     },
     "execution_count": 46,
     "metadata": {},
     "output_type": "execute_result"
    },
    {
     "data": {
      "image/png": "[encoded data removed]",
      "text/plain": [
       "<matplotlib.figure.Figure at 0x7f1d02e4bb50>"
      ]
     },
     "metadata": {},
     "output_type": "display_data"
    }
   ],
   "source": [
    "fig, ax = plt.subplots(1, 3, figsize=(20, 5))\n",
    "s1 = pd.Series(sample1['rssi'])\n",
    "s2 = pd.Series(sample2['rssi'])\n",
    "s3 = pd.Series(sample3['rssi'])\n",
    "\n",
    "\n",
    "\n",
    "ax[0].plot(s1, '-', label=\"sample1\")\n",
    "ax[1].plot(s2, '-', label=\"sample2\")\n",
    "ax[2].plot(s3, '-', label=\"sample3\")\n"
   ]
  },
  {
   "cell_type": "code",
   "execution_count": null,
   "metadata": {
    "collapsed": true
   },
   "outputs": [],
   "source": []
  }
 ],
 "metadata": {
  "kernelspec": {
   "display_name": "Python [Root]",
   "language": "python",
   "name": "Python [Root]"
  },
  "language_info": {
   "codemirror_mode": {
    "name": "ipython",
    "version": 2
   },
   "file_extension": ".py",
   "mimetype": "text/x-python",
   "name": "python",
   "nbconvert_exporter": "python",
   "pygments_lexer": "ipython2",
   "version": "2.7.12"
  }
 },
 "nbformat": 4,
 "nbformat_minor": 0
}
